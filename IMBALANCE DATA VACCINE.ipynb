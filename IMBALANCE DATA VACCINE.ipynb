{
 "cells": [
  {
   "cell_type": "code",
   "execution_count": 1,
   "id": "f55f2b1a",
   "metadata": {},
   "outputs": [],
   "source": [
    "import pandas as pd\n",
    "import numpy as np\n",
    "import matplotlib.pyplot as plt\n",
    "%matplotlib inline"
   ]
  },
  {
   "cell_type": "code",
   "execution_count": 2,
   "id": "032753cc",
   "metadata": {},
   "outputs": [
    {
     "name": "stdout",
     "output_type": "stream",
     "text": [
      "C:\\Users\\sadin\\Desktop\\IMARTICUS\\PYTHON\\DATA SETS\\VACCINE\n"
     ]
    }
   ],
   "source": [
    "import io\n",
    "%cd \"C:\\Users\\sadin\\Desktop\\IMARTICUS\\PYTHON\\DATA SETS\\VACCINE\""
   ]
  },
  {
   "cell_type": "code",
   "execution_count": 3,
   "id": "70ad35d8",
   "metadata": {},
   "outputs": [],
   "source": [
    "vaccinetrain=pd.read_csv(\"training_set_features.csv\")"
   ]
  },
  {
   "cell_type": "code",
   "execution_count": 4,
   "id": "ad732ab6",
   "metadata": {},
   "outputs": [],
   "source": [
    "vaccinetest=pd.read_csv(\"test_set_features.csv\")"
   ]
  },
  {
   "cell_type": "code",
   "execution_count": 5,
   "id": "ffaee824",
   "metadata": {},
   "outputs": [],
   "source": [
    "vaccinelables=pd.read_csv(\"training_set_labels.csv\")"
   ]
  },
  {
   "cell_type": "code",
   "execution_count": 6,
   "id": "84b4fd00",
   "metadata": {},
   "outputs": [
    {
     "name": "stdout",
     "output_type": "stream",
     "text": [
      "<class 'pandas.core.frame.DataFrame'>\n",
      "RangeIndex: 26707 entries, 0 to 26706\n",
      "Data columns (total 36 columns):\n",
      " #   Column                       Non-Null Count  Dtype  \n",
      "---  ------                       --------------  -----  \n",
      " 0   respondent_id                26707 non-null  int64  \n",
      " 1   h1n1_concern                 26615 non-null  float64\n",
      " 2   h1n1_knowledge               26591 non-null  float64\n",
      " 3   behavioral_antiviral_meds    26636 non-null  float64\n",
      " 4   behavioral_avoidance         26499 non-null  float64\n",
      " 5   behavioral_face_mask         26688 non-null  float64\n",
      " 6   behavioral_wash_hands        26665 non-null  float64\n",
      " 7   behavioral_large_gatherings  26620 non-null  float64\n",
      " 8   behavioral_outside_home      26625 non-null  float64\n",
      " 9   behavioral_touch_face        26579 non-null  float64\n",
      " 10  doctor_recc_h1n1             24547 non-null  float64\n",
      " 11  doctor_recc_seasonal         24547 non-null  float64\n",
      " 12  chronic_med_condition        25736 non-null  float64\n",
      " 13  child_under_6_months         25887 non-null  float64\n",
      " 14  health_worker                25903 non-null  float64\n",
      " 15  health_insurance             14433 non-null  float64\n",
      " 16  opinion_h1n1_vacc_effective  26316 non-null  float64\n",
      " 17  opinion_h1n1_risk            26319 non-null  float64\n",
      " 18  opinion_h1n1_sick_from_vacc  26312 non-null  float64\n",
      " 19  opinion_seas_vacc_effective  26245 non-null  float64\n",
      " 20  opinion_seas_risk            26193 non-null  float64\n",
      " 21  opinion_seas_sick_from_vacc  26170 non-null  float64\n",
      " 22  age_group                    26707 non-null  object \n",
      " 23  education                    25300 non-null  object \n",
      " 24  race                         26707 non-null  object \n",
      " 25  sex                          26707 non-null  object \n",
      " 26  income_poverty               22284 non-null  object \n",
      " 27  marital_status               25299 non-null  object \n",
      " 28  rent_or_own                  24665 non-null  object \n",
      " 29  employment_status            25244 non-null  object \n",
      " 30  hhs_geo_region               26707 non-null  object \n",
      " 31  census_msa                   26707 non-null  object \n",
      " 32  household_adults             26458 non-null  float64\n",
      " 33  household_children           26458 non-null  float64\n",
      " 34  employment_industry          13377 non-null  object \n",
      " 35  employment_occupation        13237 non-null  object \n",
      "dtypes: float64(23), int64(1), object(12)\n",
      "memory usage: 7.3+ MB\n"
     ]
    }
   ],
   "source": [
    "vaccinetrain.info()"
   ]
  },
  {
   "cell_type": "code",
   "execution_count": 7,
   "id": "10ea808f",
   "metadata": {},
   "outputs": [
    {
     "name": "stdout",
     "output_type": "stream",
     "text": [
      "<class 'pandas.core.frame.DataFrame'>\n",
      "RangeIndex: 26708 entries, 0 to 26707\n",
      "Data columns (total 36 columns):\n",
      " #   Column                       Non-Null Count  Dtype  \n",
      "---  ------                       --------------  -----  \n",
      " 0   respondent_id                26708 non-null  int64  \n",
      " 1   h1n1_concern                 26623 non-null  float64\n",
      " 2   h1n1_knowledge               26586 non-null  float64\n",
      " 3   behavioral_antiviral_meds    26629 non-null  float64\n",
      " 4   behavioral_avoidance         26495 non-null  float64\n",
      " 5   behavioral_face_mask         26689 non-null  float64\n",
      " 6   behavioral_wash_hands        26668 non-null  float64\n",
      " 7   behavioral_large_gatherings  26636 non-null  float64\n",
      " 8   behavioral_outside_home      26626 non-null  float64\n",
      " 9   behavioral_touch_face        26580 non-null  float64\n",
      " 10  doctor_recc_h1n1             24548 non-null  float64\n",
      " 11  doctor_recc_seasonal         24548 non-null  float64\n",
      " 12  chronic_med_condition        25776 non-null  float64\n",
      " 13  child_under_6_months         25895 non-null  float64\n",
      " 14  health_worker                25919 non-null  float64\n",
      " 15  health_insurance             14480 non-null  float64\n",
      " 16  opinion_h1n1_vacc_effective  26310 non-null  float64\n",
      " 17  opinion_h1n1_risk            26328 non-null  float64\n",
      " 18  opinion_h1n1_sick_from_vacc  26333 non-null  float64\n",
      " 19  opinion_seas_vacc_effective  26256 non-null  float64\n",
      " 20  opinion_seas_risk            26209 non-null  float64\n",
      " 21  opinion_seas_sick_from_vacc  26187 non-null  float64\n",
      " 22  age_group                    26708 non-null  object \n",
      " 23  education                    25301 non-null  object \n",
      " 24  race                         26708 non-null  object \n",
      " 25  sex                          26708 non-null  object \n",
      " 26  income_poverty               22211 non-null  object \n",
      " 27  marital_status               25266 non-null  object \n",
      " 28  rent_or_own                  24672 non-null  object \n",
      " 29  employment_status            25237 non-null  object \n",
      " 30  hhs_geo_region               26708 non-null  object \n",
      " 31  census_msa                   26708 non-null  object \n",
      " 32  household_adults             26483 non-null  float64\n",
      " 33  household_children           26483 non-null  float64\n",
      " 34  employment_industry          13433 non-null  object \n",
      " 35  employment_occupation        13282 non-null  object \n",
      "dtypes: float64(23), int64(1), object(12)\n",
      "memory usage: 7.3+ MB\n"
     ]
    }
   ],
   "source": [
    "vaccinetest.info()"
   ]
  },
  {
   "cell_type": "code",
   "execution_count": 8,
   "id": "9de1b31e",
   "metadata": {},
   "outputs": [],
   "source": [
    "vaccinetrain[\"data\"]=\"train\"\n",
    "vaccinetest[\"data\"]=\"test\""
   ]
  },
  {
   "cell_type": "code",
   "execution_count": 9,
   "id": "93d2d57f",
   "metadata": {},
   "outputs": [],
   "source": [
    "combinedf=pd.concat([vaccinetrain,vaccinetest],axis=0)"
   ]
  },
  {
   "cell_type": "code",
   "execution_count": 10,
   "id": "a8c81398",
   "metadata": {},
   "outputs": [
    {
     "name": "stdout",
     "output_type": "stream",
     "text": [
      "<class 'pandas.core.frame.DataFrame'>\n",
      "Int64Index: 53415 entries, 0 to 26707\n",
      "Data columns (total 37 columns):\n",
      " #   Column                       Non-Null Count  Dtype  \n",
      "---  ------                       --------------  -----  \n",
      " 0   respondent_id                53415 non-null  int64  \n",
      " 1   h1n1_concern                 53238 non-null  float64\n",
      " 2   h1n1_knowledge               53177 non-null  float64\n",
      " 3   behavioral_antiviral_meds    53265 non-null  float64\n",
      " 4   behavioral_avoidance         52994 non-null  float64\n",
      " 5   behavioral_face_mask         53377 non-null  float64\n",
      " 6   behavioral_wash_hands        53333 non-null  float64\n",
      " 7   behavioral_large_gatherings  53256 non-null  float64\n",
      " 8   behavioral_outside_home      53251 non-null  float64\n",
      " 9   behavioral_touch_face        53159 non-null  float64\n",
      " 10  doctor_recc_h1n1             49095 non-null  float64\n",
      " 11  doctor_recc_seasonal         49095 non-null  float64\n",
      " 12  chronic_med_condition        51512 non-null  float64\n",
      " 13  child_under_6_months         51782 non-null  float64\n",
      " 14  health_worker                51822 non-null  float64\n",
      " 15  health_insurance             28913 non-null  float64\n",
      " 16  opinion_h1n1_vacc_effective  52626 non-null  float64\n",
      " 17  opinion_h1n1_risk            52647 non-null  float64\n",
      " 18  opinion_h1n1_sick_from_vacc  52645 non-null  float64\n",
      " 19  opinion_seas_vacc_effective  52501 non-null  float64\n",
      " 20  opinion_seas_risk            52402 non-null  float64\n",
      " 21  opinion_seas_sick_from_vacc  52357 non-null  float64\n",
      " 22  age_group                    53415 non-null  object \n",
      " 23  education                    50601 non-null  object \n",
      " 24  race                         53415 non-null  object \n",
      " 25  sex                          53415 non-null  object \n",
      " 26  income_poverty               44495 non-null  object \n",
      " 27  marital_status               50565 non-null  object \n",
      " 28  rent_or_own                  49337 non-null  object \n",
      " 29  employment_status            50481 non-null  object \n",
      " 30  hhs_geo_region               53415 non-null  object \n",
      " 31  census_msa                   53415 non-null  object \n",
      " 32  household_adults             52941 non-null  float64\n",
      " 33  household_children           52941 non-null  float64\n",
      " 34  employment_industry          26810 non-null  object \n",
      " 35  employment_occupation        26519 non-null  object \n",
      " 36  data                         53415 non-null  object \n",
      "dtypes: float64(23), int64(1), object(13)\n",
      "memory usage: 15.5+ MB\n"
     ]
    }
   ],
   "source": [
    "combinedf.info()"
   ]
  },
  {
   "cell_type": "code",
   "execution_count": 11,
   "id": "a66ff049",
   "metadata": {},
   "outputs": [],
   "source": [
    "from sklearn.preprocessing import LabelEncoder"
   ]
  },
  {
   "cell_type": "code",
   "execution_count": 12,
   "id": "21b50890",
   "metadata": {},
   "outputs": [],
   "source": [
    "original=combinedf"
   ]
  },
  {
   "cell_type": "code",
   "execution_count": 13,
   "id": "97775215",
   "metadata": {},
   "outputs": [],
   "source": [
    "mask=combinedf.isnull()"
   ]
  },
  {
   "cell_type": "code",
   "execution_count": 14,
   "id": "5bcc1630",
   "metadata": {},
   "outputs": [],
   "source": [
    "combinedf=combinedf.astype(str).apply(LabelEncoder().fit_transform)"
   ]
  },
  {
   "cell_type": "code",
   "execution_count": 15,
   "id": "c84b86f0",
   "metadata": {},
   "outputs": [],
   "source": [
    "combinedf=combinedf.where(~mask,original)"
   ]
  },
  {
   "cell_type": "code",
   "execution_count": 16,
   "id": "c1cefaee",
   "metadata": {},
   "outputs": [
    {
     "name": "stdout",
     "output_type": "stream",
     "text": [
      "<class 'pandas.core.frame.DataFrame'>\n",
      "Int64Index: 53415 entries, 0 to 26707\n",
      "Data columns (total 37 columns):\n",
      " #   Column                       Non-Null Count  Dtype \n",
      "---  ------                       --------------  ----- \n",
      " 0   respondent_id                53415 non-null  int64 \n",
      " 1   h1n1_concern                 53238 non-null  object\n",
      " 2   h1n1_knowledge               53177 non-null  object\n",
      " 3   behavioral_antiviral_meds    53265 non-null  object\n",
      " 4   behavioral_avoidance         52994 non-null  object\n",
      " 5   behavioral_face_mask         53377 non-null  object\n",
      " 6   behavioral_wash_hands        53333 non-null  object\n",
      " 7   behavioral_large_gatherings  53256 non-null  object\n",
      " 8   behavioral_outside_home      53251 non-null  object\n",
      " 9   behavioral_touch_face        53159 non-null  object\n",
      " 10  doctor_recc_h1n1             49095 non-null  object\n",
      " 11  doctor_recc_seasonal         49095 non-null  object\n",
      " 12  chronic_med_condition        51512 non-null  object\n",
      " 13  child_under_6_months         51782 non-null  object\n",
      " 14  health_worker                51822 non-null  object\n",
      " 15  health_insurance             28913 non-null  object\n",
      " 16  opinion_h1n1_vacc_effective  52626 non-null  object\n",
      " 17  opinion_h1n1_risk            52647 non-null  object\n",
      " 18  opinion_h1n1_sick_from_vacc  52645 non-null  object\n",
      " 19  opinion_seas_vacc_effective  52501 non-null  object\n",
      " 20  opinion_seas_risk            52402 non-null  object\n",
      " 21  opinion_seas_sick_from_vacc  52357 non-null  object\n",
      " 22  age_group                    53415 non-null  int64 \n",
      " 23  education                    50601 non-null  object\n",
      " 24  race                         53415 non-null  int64 \n",
      " 25  sex                          53415 non-null  int64 \n",
      " 26  income_poverty               44495 non-null  object\n",
      " 27  marital_status               50565 non-null  object\n",
      " 28  rent_or_own                  49337 non-null  object\n",
      " 29  employment_status            50481 non-null  object\n",
      " 30  hhs_geo_region               53415 non-null  int64 \n",
      " 31  census_msa                   53415 non-null  int64 \n",
      " 32  household_adults             52941 non-null  object\n",
      " 33  household_children           52941 non-null  object\n",
      " 34  employment_industry          26810 non-null  object\n",
      " 35  employment_occupation        26519 non-null  object\n",
      " 36  data                         53415 non-null  int64 \n",
      "dtypes: int64(7), object(30)\n",
      "memory usage: 15.5+ MB\n"
     ]
    }
   ],
   "source": [
    "combinedf.info()"
   ]
  },
  {
   "cell_type": "code",
   "execution_count": 17,
   "id": "a08dfbba",
   "metadata": {},
   "outputs": [],
   "source": [
    "from sklearn.experimental import enable_iterative_imputer"
   ]
  },
  {
   "cell_type": "code",
   "execution_count": 18,
   "id": "cd28a20d",
   "metadata": {},
   "outputs": [],
   "source": [
    "from sklearn.impute import IterativeImputer"
   ]
  },
  {
   "cell_type": "code",
   "execution_count": 19,
   "id": "aaa9530b",
   "metadata": {},
   "outputs": [],
   "source": [
    "from sklearn.tree import DecisionTreeClassifier"
   ]
  },
  {
   "cell_type": "code",
   "execution_count": 20,
   "id": "126675a5",
   "metadata": {},
   "outputs": [],
   "source": [
    "imputer=IterativeImputer(estimator=DecisionTreeClassifier(),initial_strategy=\"most_frequent\",max_iter=10)"
   ]
  },
  {
   "cell_type": "code",
   "execution_count": 21,
   "id": "dc293b39",
   "metadata": {},
   "outputs": [],
   "source": [
    "combinedf1=combinedf.drop([\"respondent_id\",\"data\"],axis=1)"
   ]
  },
  {
   "cell_type": "code",
   "execution_count": 22,
   "id": "0b25ef2d",
   "metadata": {},
   "outputs": [
    {
     "name": "stderr",
     "output_type": "stream",
     "text": [
      "C:\\Users\\sadin\\anaconda3\\lib\\site-packages\\sklearn\\impute\\_base.py:49: FutureWarning: Unlike other reduction functions (e.g. `skew`, `kurtosis`), the default behavior of `mode` typically preserves the axis it acts along. In SciPy 1.11.0, this behavior will change: the default value of `keepdims` will become False, the `axis` over which the statistic is taken will be eliminated, and the value None will no longer be accepted. Set `keepdims` to True or False to avoid this warning.\n",
      "  mode = stats.mode(array)\n",
      "C:\\Users\\sadin\\anaconda3\\lib\\site-packages\\sklearn\\impute\\_iterative.py:699: ConvergenceWarning: [IterativeImputer] Early stopping criterion not reached.\n",
      "  warnings.warn(\n"
     ]
    }
   ],
   "source": [
    "combinedf1_impute=imputer.fit_transform(combinedf1)"
   ]
  },
  {
   "cell_type": "code",
   "execution_count": 23,
   "id": "75c2d534",
   "metadata": {},
   "outputs": [],
   "source": [
    "combinedf1_impute=pd.DataFrame(combinedf1_impute,columns=combinedf1.columns)"
   ]
  },
  {
   "cell_type": "code",
   "execution_count": 24,
   "id": "80335845",
   "metadata": {},
   "outputs": [
    {
     "name": "stdout",
     "output_type": "stream",
     "text": [
      "<class 'pandas.core.frame.DataFrame'>\n",
      "RangeIndex: 53415 entries, 0 to 53414\n",
      "Data columns (total 35 columns):\n",
      " #   Column                       Non-Null Count  Dtype  \n",
      "---  ------                       --------------  -----  \n",
      " 0   h1n1_concern                 53415 non-null  float64\n",
      " 1   h1n1_knowledge               53415 non-null  float64\n",
      " 2   behavioral_antiviral_meds    53415 non-null  float64\n",
      " 3   behavioral_avoidance         53415 non-null  float64\n",
      " 4   behavioral_face_mask         53415 non-null  float64\n",
      " 5   behavioral_wash_hands        53415 non-null  float64\n",
      " 6   behavioral_large_gatherings  53415 non-null  float64\n",
      " 7   behavioral_outside_home      53415 non-null  float64\n",
      " 8   behavioral_touch_face        53415 non-null  float64\n",
      " 9   doctor_recc_h1n1             53415 non-null  float64\n",
      " 10  doctor_recc_seasonal         53415 non-null  float64\n",
      " 11  chronic_med_condition        53415 non-null  float64\n",
      " 12  child_under_6_months         53415 non-null  float64\n",
      " 13  health_worker                53415 non-null  float64\n",
      " 14  health_insurance             53415 non-null  float64\n",
      " 15  opinion_h1n1_vacc_effective  53415 non-null  float64\n",
      " 16  opinion_h1n1_risk            53415 non-null  float64\n",
      " 17  opinion_h1n1_sick_from_vacc  53415 non-null  float64\n",
      " 18  opinion_seas_vacc_effective  53415 non-null  float64\n",
      " 19  opinion_seas_risk            53415 non-null  float64\n",
      " 20  opinion_seas_sick_from_vacc  53415 non-null  float64\n",
      " 21  age_group                    53415 non-null  float64\n",
      " 22  education                    53415 non-null  float64\n",
      " 23  race                         53415 non-null  float64\n",
      " 24  sex                          53415 non-null  float64\n",
      " 25  income_poverty               53415 non-null  float64\n",
      " 26  marital_status               53415 non-null  float64\n",
      " 27  rent_or_own                  53415 non-null  float64\n",
      " 28  employment_status            53415 non-null  float64\n",
      " 29  hhs_geo_region               53415 non-null  float64\n",
      " 30  census_msa                   53415 non-null  float64\n",
      " 31  household_adults             53415 non-null  float64\n",
      " 32  household_children           53415 non-null  float64\n",
      " 33  employment_industry          53415 non-null  float64\n",
      " 34  employment_occupation        53415 non-null  float64\n",
      "dtypes: float64(35)\n",
      "memory usage: 14.3 MB\n"
     ]
    }
   ],
   "source": [
    "combinedf1_impute.info()"
   ]
  },
  {
   "cell_type": "code",
   "execution_count": 25,
   "id": "bdc5f0b7",
   "metadata": {},
   "outputs": [],
   "source": [
    "combinedf1_impute=combinedf1_impute.reset_index()"
   ]
  },
  {
   "cell_type": "code",
   "execution_count": 26,
   "id": "46a2d409",
   "metadata": {},
   "outputs": [],
   "source": [
    "combinedf=combinedf.reset_index()"
   ]
  },
  {
   "cell_type": "code",
   "execution_count": 27,
   "id": "fec3200a",
   "metadata": {},
   "outputs": [],
   "source": [
    "combinedf1_impute[\"data\"]=combinedf.data"
   ]
  },
  {
   "cell_type": "code",
   "execution_count": 28,
   "id": "254190ed",
   "metadata": {},
   "outputs": [],
   "source": [
    "vaccinetraindf=combinedf1_impute[combinedf1_impute.data==1]\n",
    "vaccinetestdf=combinedf1_impute[combinedf1_impute.data==0]"
   ]
  },
  {
   "cell_type": "code",
   "execution_count": 29,
   "id": "12357ecd",
   "metadata": {},
   "outputs": [
    {
     "name": "stdout",
     "output_type": "stream",
     "text": [
      "(26708, 37)\n",
      "(26707, 37)\n"
     ]
    }
   ],
   "source": [
    "print(vaccinetestdf.shape)\n",
    "print(vaccinetraindf.shape)"
   ]
  },
  {
   "cell_type": "code",
   "execution_count": 30,
   "id": "35c15fec",
   "metadata": {},
   "outputs": [
    {
     "data": {
      "text/html": [
       "<div>\n",
       "<style scoped>\n",
       "    .dataframe tbody tr th:only-of-type {\n",
       "        vertical-align: middle;\n",
       "    }\n",
       "\n",
       "    .dataframe tbody tr th {\n",
       "        vertical-align: top;\n",
       "    }\n",
       "\n",
       "    .dataframe thead th {\n",
       "        text-align: right;\n",
       "    }\n",
       "</style>\n",
       "<table border=\"1\" class=\"dataframe\">\n",
       "  <thead>\n",
       "    <tr style=\"text-align: right;\">\n",
       "      <th></th>\n",
       "      <th>index</th>\n",
       "      <th>h1n1_concern</th>\n",
       "      <th>h1n1_knowledge</th>\n",
       "      <th>behavioral_antiviral_meds</th>\n",
       "      <th>behavioral_avoidance</th>\n",
       "      <th>behavioral_face_mask</th>\n",
       "      <th>behavioral_wash_hands</th>\n",
       "      <th>behavioral_large_gatherings</th>\n",
       "      <th>behavioral_outside_home</th>\n",
       "      <th>behavioral_touch_face</th>\n",
       "      <th>...</th>\n",
       "      <th>marital_status</th>\n",
       "      <th>rent_or_own</th>\n",
       "      <th>employment_status</th>\n",
       "      <th>hhs_geo_region</th>\n",
       "      <th>census_msa</th>\n",
       "      <th>household_adults</th>\n",
       "      <th>household_children</th>\n",
       "      <th>employment_industry</th>\n",
       "      <th>employment_occupation</th>\n",
       "      <th>data</th>\n",
       "    </tr>\n",
       "  </thead>\n",
       "  <tbody>\n",
       "    <tr>\n",
       "      <th>0</th>\n",
       "      <td>0</td>\n",
       "      <td>1.0</td>\n",
       "      <td>0.0</td>\n",
       "      <td>0.0</td>\n",
       "      <td>0.0</td>\n",
       "      <td>0.0</td>\n",
       "      <td>0.0</td>\n",
       "      <td>0.0</td>\n",
       "      <td>1.0</td>\n",
       "      <td>1.0</td>\n",
       "      <td>...</td>\n",
       "      <td>1.0</td>\n",
       "      <td>0.0</td>\n",
       "      <td>1.0</td>\n",
       "      <td>8.0</td>\n",
       "      <td>2.0</td>\n",
       "      <td>0.0</td>\n",
       "      <td>0.0</td>\n",
       "      <td>13.0</td>\n",
       "      <td>20.0</td>\n",
       "      <td>1</td>\n",
       "    </tr>\n",
       "    <tr>\n",
       "      <th>1</th>\n",
       "      <td>1</td>\n",
       "      <td>3.0</td>\n",
       "      <td>2.0</td>\n",
       "      <td>0.0</td>\n",
       "      <td>1.0</td>\n",
       "      <td>0.0</td>\n",
       "      <td>1.0</td>\n",
       "      <td>0.0</td>\n",
       "      <td>1.0</td>\n",
       "      <td>1.0</td>\n",
       "      <td>...</td>\n",
       "      <td>1.0</td>\n",
       "      <td>1.0</td>\n",
       "      <td>0.0</td>\n",
       "      <td>1.0</td>\n",
       "      <td>0.0</td>\n",
       "      <td>0.0</td>\n",
       "      <td>0.0</td>\n",
       "      <td>13.0</td>\n",
       "      <td>20.0</td>\n",
       "      <td>1</td>\n",
       "    </tr>\n",
       "    <tr>\n",
       "      <th>2</th>\n",
       "      <td>2</td>\n",
       "      <td>1.0</td>\n",
       "      <td>1.0</td>\n",
       "      <td>0.0</td>\n",
       "      <td>1.0</td>\n",
       "      <td>0.0</td>\n",
       "      <td>0.0</td>\n",
       "      <td>0.0</td>\n",
       "      <td>0.0</td>\n",
       "      <td>0.0</td>\n",
       "      <td>...</td>\n",
       "      <td>1.0</td>\n",
       "      <td>0.0</td>\n",
       "      <td>0.0</td>\n",
       "      <td>9.0</td>\n",
       "      <td>0.0</td>\n",
       "      <td>2.0</td>\n",
       "      <td>0.0</td>\n",
       "      <td>15.0</td>\n",
       "      <td>22.0</td>\n",
       "      <td>1</td>\n",
       "    </tr>\n",
       "    <tr>\n",
       "      <th>3</th>\n",
       "      <td>3</td>\n",
       "      <td>1.0</td>\n",
       "      <td>1.0</td>\n",
       "      <td>0.0</td>\n",
       "      <td>1.0</td>\n",
       "      <td>0.0</td>\n",
       "      <td>1.0</td>\n",
       "      <td>1.0</td>\n",
       "      <td>0.0</td>\n",
       "      <td>0.0</td>\n",
       "      <td>...</td>\n",
       "      <td>1.0</td>\n",
       "      <td>1.0</td>\n",
       "      <td>1.0</td>\n",
       "      <td>5.0</td>\n",
       "      <td>1.0</td>\n",
       "      <td>0.0</td>\n",
       "      <td>0.0</td>\n",
       "      <td>19.0</td>\n",
       "      <td>5.0</td>\n",
       "      <td>1</td>\n",
       "    </tr>\n",
       "    <tr>\n",
       "      <th>4</th>\n",
       "      <td>4</td>\n",
       "      <td>2.0</td>\n",
       "      <td>1.0</td>\n",
       "      <td>0.0</td>\n",
       "      <td>1.0</td>\n",
       "      <td>0.0</td>\n",
       "      <td>1.0</td>\n",
       "      <td>1.0</td>\n",
       "      <td>0.0</td>\n",
       "      <td>1.0</td>\n",
       "      <td>...</td>\n",
       "      <td>0.0</td>\n",
       "      <td>0.0</td>\n",
       "      <td>0.0</td>\n",
       "      <td>9.0</td>\n",
       "      <td>0.0</td>\n",
       "      <td>1.0</td>\n",
       "      <td>0.0</td>\n",
       "      <td>19.0</td>\n",
       "      <td>5.0</td>\n",
       "      <td>1</td>\n",
       "    </tr>\n",
       "  </tbody>\n",
       "</table>\n",
       "<p>5 rows × 37 columns</p>\n",
       "</div>"
      ],
      "text/plain": [
       "   index  h1n1_concern  h1n1_knowledge  behavioral_antiviral_meds  \\\n",
       "0      0           1.0             0.0                        0.0   \n",
       "1      1           3.0             2.0                        0.0   \n",
       "2      2           1.0             1.0                        0.0   \n",
       "3      3           1.0             1.0                        0.0   \n",
       "4      4           2.0             1.0                        0.0   \n",
       "\n",
       "   behavioral_avoidance  behavioral_face_mask  behavioral_wash_hands  \\\n",
       "0                   0.0                   0.0                    0.0   \n",
       "1                   1.0                   0.0                    1.0   \n",
       "2                   1.0                   0.0                    0.0   \n",
       "3                   1.0                   0.0                    1.0   \n",
       "4                   1.0                   0.0                    1.0   \n",
       "\n",
       "   behavioral_large_gatherings  behavioral_outside_home  \\\n",
       "0                          0.0                      1.0   \n",
       "1                          0.0                      1.0   \n",
       "2                          0.0                      0.0   \n",
       "3                          1.0                      0.0   \n",
       "4                          1.0                      0.0   \n",
       "\n",
       "   behavioral_touch_face  ...  marital_status  rent_or_own  employment_status  \\\n",
       "0                    1.0  ...             1.0          0.0                1.0   \n",
       "1                    1.0  ...             1.0          1.0                0.0   \n",
       "2                    0.0  ...             1.0          0.0                0.0   \n",
       "3                    0.0  ...             1.0          1.0                1.0   \n",
       "4                    1.0  ...             0.0          0.0                0.0   \n",
       "\n",
       "   hhs_geo_region  census_msa  household_adults  household_children  \\\n",
       "0             8.0         2.0               0.0                 0.0   \n",
       "1             1.0         0.0               0.0                 0.0   \n",
       "2             9.0         0.0               2.0                 0.0   \n",
       "3             5.0         1.0               0.0                 0.0   \n",
       "4             9.0         0.0               1.0                 0.0   \n",
       "\n",
       "   employment_industry  employment_occupation  data  \n",
       "0                 13.0                   20.0     1  \n",
       "1                 13.0                   20.0     1  \n",
       "2                 15.0                   22.0     1  \n",
       "3                 19.0                    5.0     1  \n",
       "4                 19.0                    5.0     1  \n",
       "\n",
       "[5 rows x 37 columns]"
      ]
     },
     "execution_count": 30,
     "metadata": {},
     "output_type": "execute_result"
    }
   ],
   "source": [
    "vaccinetraindf.head()"
   ]
  },
  {
   "cell_type": "code",
   "execution_count": 31,
   "id": "e8485d0f",
   "metadata": {},
   "outputs": [],
   "source": [
    "vaccinetraindf=vaccinetraindf.drop([\"index\",\"data\"],axis=1)"
   ]
  },
  {
   "cell_type": "code",
   "execution_count": 32,
   "id": "1fd482d2",
   "metadata": {},
   "outputs": [],
   "source": [
    "vaccinetestdff=vaccinetestdf.drop([\"index\",\"data\"],axis=1)"
   ]
  },
  {
   "cell_type": "code",
   "execution_count": 33,
   "id": "c5bad38a",
   "metadata": {},
   "outputs": [],
   "source": [
    "y=vaccinelables.h1n1_vaccine\n",
    "X=vaccinetraindf"
   ]
  },
  {
   "cell_type": "code",
   "execution_count": 34,
   "id": "6748d2c8",
   "metadata": {},
   "outputs": [
    {
     "data": {
      "text/plain": [
       "0    21033\n",
       "1     5674\n",
       "Name: h1n1_vaccine, dtype: int64"
      ]
     },
     "execution_count": 34,
     "metadata": {},
     "output_type": "execute_result"
    }
   ],
   "source": [
    "y.value_counts()"
   ]
  },
  {
   "cell_type": "code",
   "execution_count": 36,
   "id": "faf86406",
   "metadata": {},
   "outputs": [
    {
     "data": {
      "text/plain": [
       "<AxesSubplot: >"
      ]
     },
     "execution_count": 36,
     "metadata": {},
     "output_type": "execute_result"
    },
    {
     "data": {
      "image/png": "[encoded data removed]",
      "text/plain": [
       "<Figure size 640x480 with 1 Axes>"
      ]
     },
     "metadata": {},
     "output_type": "display_data"
    }
   ],
   "source": [
    "y.value_counts().plot(kind=\"bar\") # imbalace data"
   ]
  },
  {
   "cell_type": "code",
   "execution_count": 37,
   "id": "c2d8db70",
   "metadata": {},
   "outputs": [],
   "source": [
    "from imblearn.over_sampling import RandomOverSampler\n",
    "from imblearn.over_sampling import SMOTEN\n",
    "from imblearn.over_sampling import BorderlineSMOTE\n",
    "from imblearn.over_sampling import SVMSMOTE\n",
    "from imblearn.over_sampling import KMeansSMOTE"
   ]
  },
  {
   "cell_type": "raw",
   "id": "56c5d831",
   "metadata": {},
   "source": [
    "RANDOM OVERSAMPLING"
   ]
  },
  {
   "cell_type": "code",
   "execution_count": 38,
   "id": "f81db642",
   "metadata": {},
   "outputs": [],
   "source": [
    "random_os = RandomOverSampler(random_state = 42)\n",
    "X_random, y_random = random_os.fit_resample(X,y)"
   ]
  },
  {
   "cell_type": "code",
   "execution_count": 39,
   "id": "2d9401bb",
   "metadata": {},
   "outputs": [
    {
     "name": "stdout",
     "output_type": "stream",
     "text": [
      "0    21033\n",
      "1     5674\n",
      "Name: h1n1_vaccine, dtype: int64\n",
      "0    21033\n",
      "1    21033\n",
      "Name: h1n1_vaccine, dtype: int64\n"
     ]
    }
   ],
   "source": [
    "print(y.value_counts())\n",
    "print(y_random.value_counts())"
   ]
  },
  {
   "cell_type": "markdown",
   "id": "0fc20462",
   "metadata": {},
   "source": [
    "SMOTEN"
   ]
  },
  {
   "cell_type": "code",
   "execution_count": 40,
   "id": "ed86efe9",
   "metadata": {},
   "outputs": [],
   "source": [
    "smote_os = SMOTEN(random_state = 42)\n",
    "X_smote, y_smote = smote_os.fit_resample(X,y)"
   ]
  },
  {
   "cell_type": "code",
   "execution_count": 41,
   "id": "bd222f14",
   "metadata": {},
   "outputs": [
    {
     "name": "stdout",
     "output_type": "stream",
     "text": [
      "0    21033\n",
      "1     5674\n",
      "Name: h1n1_vaccine, dtype: int64\n",
      "0    21033\n",
      "1    21033\n",
      "Name: h1n1_vaccine, dtype: int64\n"
     ]
    }
   ],
   "source": [
    "print(y.value_counts())\n",
    "print(y_smote.value_counts())"
   ]
  },
  {
   "cell_type": "markdown",
   "id": "dd8b44e5",
   "metadata": {},
   "source": [
    "BORDER LINE SMOTE"
   ]
  },
  {
   "cell_type": "code",
   "execution_count": 42,
   "id": "251e9289",
   "metadata": {},
   "outputs": [],
   "source": [
    "smote_border = BorderlineSMOTE(random_state = 42, kind = 'borderline-2')\n",
    "X_smoteborder, y_smoteborder = smote_border.fit_resample(\n",
    "X,y)"
   ]
  },
  {
   "cell_type": "code",
   "execution_count": 43,
   "id": "bc33532e",
   "metadata": {},
   "outputs": [
    {
     "name": "stdout",
     "output_type": "stream",
     "text": [
      "0    21033\n",
      "1     5674\n",
      "Name: h1n1_vaccine, dtype: int64\n",
      "0    21033\n",
      "1    21033\n",
      "Name: h1n1_vaccine, dtype: int64\n"
     ]
    }
   ],
   "source": [
    "print(y.value_counts())\n",
    "print(y_smoteborder.value_counts())"
   ]
  },
  {
   "cell_type": "markdown",
   "id": "f02418b1",
   "metadata": {},
   "source": [
    "SVMSMOTE"
   ]
  },
  {
   "cell_type": "code",
   "execution_count": 44,
   "id": "ae058b75",
   "metadata": {},
   "outputs": [],
   "source": [
    "smote_svm = SVMSMOTE(random_state = 42)\n",
    "X_smotesvm, y_smotesvm = smote_svm.fit_resample(X,y)"
   ]
  },
  {
   "cell_type": "code",
   "execution_count": 45,
   "id": "4a3833ac",
   "metadata": {},
   "outputs": [
    {
     "name": "stdout",
     "output_type": "stream",
     "text": [
      "0    21033\n",
      "1     5674\n",
      "Name: h1n1_vaccine, dtype: int64\n",
      "0    21033\n",
      "1    21033\n",
      "Name: h1n1_vaccine, dtype: int64\n"
     ]
    }
   ],
   "source": [
    "print(y.value_counts())\n",
    "print(y_smotesvm.value_counts())"
   ]
  },
  {
   "cell_type": "markdown",
   "id": "3152de08",
   "metadata": {},
   "source": [
    "K-Means SMOTE"
   ]
  },
  {
   "cell_type": "code",
   "execution_count": 46,
   "id": "bf15a2bb",
   "metadata": {},
   "outputs": [
    {
     "name": "stderr",
     "output_type": "stream",
     "text": [
      "C:\\Users\\sadin\\anaconda3\\lib\\site-packages\\sklearn\\cluster\\_kmeans.py:1043: UserWarning: MiniBatchKMeans is known to have a memory leak on Windows with MKL, when there are less chunks than available threads. You can prevent it by setting batch_size >= 3072 or by setting the environment variable OMP_NUM_THREADS=4\n",
      "  warnings.warn(\n"
     ]
    }
   ],
   "source": [
    "smote_kmeans = KMeansSMOTE(random_state = 42,kmeans_estimator=50)\n",
    "X_smotekmeans, y_smotekmeans = smote_kmeans.fit_resample(X,y)"
   ]
  },
  {
   "cell_type": "code",
   "execution_count": 47,
   "id": "3ac3c105",
   "metadata": {},
   "outputs": [
    {
     "name": "stdout",
     "output_type": "stream",
     "text": [
      "0    21033\n",
      "1     5674\n",
      "Name: h1n1_vaccine, dtype: int64\n",
      "0    21033\n",
      "1    21033\n",
      "Name: h1n1_vaccine, dtype: int64\n"
     ]
    }
   ],
   "source": [
    "print(y.value_counts())\n",
    "print(y_smotekmeans.value_counts())"
   ]
  },
  {
   "cell_type": "code",
   "execution_count": 48,
   "id": "c3287554",
   "metadata": {},
   "outputs": [],
   "source": [
    "from sklearn.linear_model import LogisticRegression"
   ]
  },
  {
   "cell_type": "code",
   "execution_count": 49,
   "id": "cf6390b1",
   "metadata": {},
   "outputs": [],
   "source": [
    "logit=LogisticRegression(max_iter=2000)"
   ]
  },
  {
   "cell_type": "code",
   "execution_count": 51,
   "id": "8ea6437d",
   "metadata": {},
   "outputs": [],
   "source": [
    "logitmodel=logit.fit(X,y)"
   ]
  },
  {
   "cell_type": "code",
   "execution_count": 52,
   "id": "1ae5c632",
   "metadata": {},
   "outputs": [
    {
     "data": {
      "text/plain": [
       "0.8314299621821994"
      ]
     },
     "execution_count": 52,
     "metadata": {},
     "output_type": "execute_result"
    }
   ],
   "source": [
    "logitmodel.score(X,y)"
   ]
  },
  {
   "cell_type": "code",
   "execution_count": 53,
   "id": "131955c2",
   "metadata": {},
   "outputs": [],
   "source": [
    "from sklearn.metrics import classification_report\n",
    "from sklearn.metrics import RocCurveDisplay\n",
    "from sklearn.model_selection import cross_val_score"
   ]
  },
  {
   "cell_type": "code",
   "execution_count": 54,
   "id": "13daca5c",
   "metadata": {},
   "outputs": [],
   "source": [
    "logitpredict=logitmodel.predict(X)"
   ]
  },
  {
   "cell_type": "code",
   "execution_count": 55,
   "id": "e9d37da1",
   "metadata": {},
   "outputs": [
    {
     "name": "stdout",
     "output_type": "stream",
     "text": [
      "              precision    recall  f1-score   support\n",
      "\n",
      "           0       0.85      0.95      0.90     21033\n",
      "           1       0.67      0.40      0.50      5674\n",
      "\n",
      "    accuracy                           0.83     26707\n",
      "   macro avg       0.76      0.67      0.70     26707\n",
      "weighted avg       0.82      0.83      0.81     26707\n",
      "\n"
     ]
    }
   ],
   "source": [
    "print(classification_report(y,logitpredict))"
   ]
  },
  {
   "cell_type": "code",
   "execution_count": 57,
   "id": "b1e746ae",
   "metadata": {},
   "outputs": [],
   "source": [
    "logit1=logit.fit(X_random,y_random)"
   ]
  },
  {
   "cell_type": "code",
   "execution_count": 58,
   "id": "971134a0",
   "metadata": {},
   "outputs": [
    {
     "data": {
      "text/plain": [
       "0.7532211287025151"
      ]
     },
     "execution_count": 58,
     "metadata": {},
     "output_type": "execute_result"
    }
   ],
   "source": [
    "logit1.score(X_random,y_random)"
   ]
  },
  {
   "cell_type": "code",
   "execution_count": 60,
   "id": "f94956f6",
   "metadata": {},
   "outputs": [],
   "source": [
    "logitpredict1=logit1.predict(X_random)"
   ]
  },
  {
   "cell_type": "code",
   "execution_count": 61,
   "id": "032c2deb",
   "metadata": {},
   "outputs": [
    {
     "name": "stdout",
     "output_type": "stream",
     "text": [
      "              precision    recall  f1-score   support\n",
      "\n",
      "           0       0.74      0.78      0.76     21033\n",
      "           1       0.77      0.73      0.75     21033\n",
      "\n",
      "    accuracy                           0.75     42066\n",
      "   macro avg       0.75      0.75      0.75     42066\n",
      "weighted avg       0.75      0.75      0.75     42066\n",
      "\n"
     ]
    }
   ],
   "source": [
    "print(classification_report(y_random,logitpredict1))"
   ]
  },
  {
   "cell_type": "code",
   "execution_count": 62,
   "id": "5608d111",
   "metadata": {},
   "outputs": [],
   "source": [
    "logitsmotem=logit.fit(X_smote,y_smote)"
   ]
  },
  {
   "cell_type": "code",
   "execution_count": 63,
   "id": "7b4285e5",
   "metadata": {},
   "outputs": [
    {
     "data": {
      "text/plain": [
       "0.8122949650549137"
      ]
     },
     "execution_count": 63,
     "metadata": {},
     "output_type": "execute_result"
    }
   ],
   "source": [
    "logitsmotem.score(X_smote,y_smote)"
   ]
  },
  {
   "cell_type": "code",
   "execution_count": 64,
   "id": "4d60d6a3",
   "metadata": {},
   "outputs": [],
   "source": [
    "logitsmotepredict=logitsmotem.predict(X_smote)"
   ]
  },
  {
   "cell_type": "code",
   "execution_count": 65,
   "id": "07bcff96",
   "metadata": {},
   "outputs": [
    {
     "name": "stdout",
     "output_type": "stream",
     "text": [
      "              precision    recall  f1-score   support\n",
      "\n",
      "           0       0.81      0.82      0.81     21033\n",
      "           1       0.82      0.80      0.81     21033\n",
      "\n",
      "    accuracy                           0.81     42066\n",
      "   macro avg       0.81      0.81      0.81     42066\n",
      "weighted avg       0.81      0.81      0.81     42066\n",
      "\n"
     ]
    }
   ],
   "source": [
    "print(classification_report(y_smote,logitsmotepredict))"
   ]
  },
  {
   "cell_type": "code",
   "execution_count": null,
   "id": "59b9e16b",
   "metadata": {},
   "outputs": [],
   "source": []
  }
 ],
 "metadata": {
  "kernelspec": {
   "display_name": "Python 3 (ipykernel)",
   "language": "python",
   "name": "python3"
  },
  "language_info": {
   "codemirror_mode": {
    "name": "ipython",
    "version": 3
   },
   "file_extension": ".py",
   "mimetype": "text/x-python",
   "name": "python",
   "nbconvert_exporter": "python",
   "pygments_lexer": "ipython3",
   "version": "3.9.15"
  }
 },
 "nbformat": 4,
 "nbformat_minor": 5
}
